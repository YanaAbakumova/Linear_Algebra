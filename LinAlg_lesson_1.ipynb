{
 "cells": [
  {
   "cell_type": "markdown",
   "metadata": {},
   "source": [
    "# Линейное пространство. Основные понятия. Часть 1"
   ]
  },
  {
   "cell_type": "markdown",
   "metadata": {},
   "source": [
    "#### __1.__ Исследовать на линейную зависимость:\n",
    "\n",
    "$$f_{1}(x)=e^{x}, f_{2}(x)=1, f_{3}(x)=x+1, f_{4}(x)=x-e^{x}.$$"
   ]
  },
  {
   "cell_type": "markdown",
   "metadata": {},
   "source": [
    "$e^{x} = -(x-e^{x}) + (x+1)- 1$,\n",
    "то есть вектор $f_{1}(x)$ — линейная комбинация векторов $f_{2}(x)$, $f_{3}(x)$ и $f_{4}(x)$, из чего можно сделать вывод, что векторы линейно зависимы\n"
   ]
  },
  {
   "cell_type": "markdown",
   "metadata": {},
   "source": [
    "#### __2.__ Исследовать на линейную зависимость:\n",
    "$$f_{1}(x)=2, f_{2}(x)=x, f_{3}(x)=x^{2}, f_{4}(x)=(x+1)^{2}$$"
   ]
  },
  {
   "cell_type": "markdown",
   "metadata": {},
   "source": [
    "$(x+1)^2 = x^2 + 2x+ 2$, т.е. $f_{4}(x) = f_{3}(x) + 2f_{2}(x) + 2f_{1}(x)$ - значит векторы линейно зависимы"
   ]
  },
  {
   "cell_type": "markdown",
   "metadata": {},
   "source": [
    "#### __3.__ Найти координаты вектора $x = (2, 3, 5)\\in \\mathbb{R}^{3}$ в базисе $b_{1}=(0, 0, 10)$, $b_{2}=(2, 0, 0)$, $b_{3}=(0, 1, 0)$."
   ]
  },
  {
   "cell_type": "markdown",
   "metadata": {},
   "source": [
    "$1 \\cdot (2,0, 0) + 3 \\cdot (0, 1, 0) + \\frac{1}{2} \\cdot (0, 0, 10) $\n",
    "\n",
    "координаты $(\\frac{1}{2}; 1; 3)$"
   ]
  },
  {
   "cell_type": "markdown",
   "metadata": {},
   "source": [
    "#### __4.__ Найти координаты вектора $3x^{2}-2x+2\\in\\mathbb{R}^{3}[x]$:\n",
    "\n",
    "а) в базисе $1$, $x$, $x^{2}$;\n",
    "\n",
    "б) в базисе $x^{2}$, $x-1$, $1$."
   ]
  },
  {
   "cell_type": "markdown",
   "metadata": {},
   "source": [
    "a) (2; -2; 3)\n",
    "\n",
    "б) $3x^2 - 2(x-1) + 0 $ , координаты (3; -2; 0)"
   ]
  },
  {
   "cell_type": "markdown",
   "metadata": {},
   "source": [
    "#### __5.__ Установить, является ли линейным подпространством:\n",
    "\n",
    "а) совокупность всех векторов трехмерного пространства, у которых по крайней мере одна из первых двух координат равна нулю;\n",
    "    \n",
    "б) все векторы, являющиеся линейными комбинациями данных векторов $\\{u_{1}, u_{2}, \\ldots, u_{n}\\}$."
   ]
  },
  {
   "cell_type": "markdown",
   "metadata": {},
   "source": [
    "a) да, является, т.к. (0, a, b) + (0, с, d) = (0+0, a+c, b+d) ,  (0, a, b) * (0, с, d) = (0, ac, bd)\n",
    "\n",
    "б) да, являются, т.к. по определению множество линейных комбинаций образуют подпространство. \n",
    "\n",
    "$a_{1}u_{1}+a_{2}u_{2}+...a_{n}u_{n} + b_{1}u_{1}+b_{2}u_{2}+...b_{n}u_{n} = (a_{1}+b_{1})u_{1}+(a_{2}+b_{2})u_{2}+...(a_{n}+b_{n})u_{n}$\n",
    "\n",
    "$\\alpha (a1u1+a2b2...+anbn) = \\alpha a_{1}u_{1} + \\alpha a_{2}u_{2}+...\\alpha a_{n}u_{n}$\n"
   ]
  },
  {
   "cell_type": "markdown",
   "metadata": {},
   "source": [
    "# Линейное пространство. Основные понятия. Часть 2"
   ]
  },
  {
   "cell_type": "markdown",
   "metadata": {},
   "source": [
    "#### __1.__ Найти скалярное произведение векторов $x, y \\in \\mathbb{R}$:<br>\n",
    "а) $x=(0,-3, 6),~y=(-4, 7, 9);$<br>\n",
    "б) $x=(7, -4, 0, 1),~y=(-3, 1, 11, 2).$"
   ]
  },
  {
   "cell_type": "markdown",
   "metadata": {},
   "source": [
    "a) $(x,y)=0\\cdot(-4)+(-3)\\cdot7+6\\cdot9=0 + (-21) + 54 = 33$\n",
    "\n",
    "б) $(x,y)=7\\cdot(-3)+(-4)\\cdot1+0\\cdot11 + 1\\cdot 2= -21 + (-4) + 0 + 2 = -23$"
   ]
  },
  {
   "cell_type": "code",
   "execution_count": 2,
   "metadata": {},
   "outputs": [
    {
     "data": {
      "text/plain": [
       "33"
      ]
     },
     "execution_count": 2,
     "metadata": {},
     "output_type": "execute_result"
    }
   ],
   "source": [
    "import numpy as np\n",
    "x = np.array([0, -3, 6])\n",
    "y = np.array([-4, 7, 9])\n",
    "np.dot(x, y)"
   ]
  },
  {
   "cell_type": "code",
   "execution_count": 3,
   "metadata": {},
   "outputs": [
    {
     "data": {
      "text/plain": [
       "-23"
      ]
     },
     "execution_count": 3,
     "metadata": {},
     "output_type": "execute_result"
    }
   ],
   "source": [
    "x = np.array([7, -4, 0, 1])\n",
    "y = np.array([-3, 1, 11, 2])\n",
    "np.dot(x, y)"
   ]
  },
  {
   "cell_type": "markdown",
   "metadata": {},
   "source": [
    "#### __2.__ Найти нормы векторов $(4, 2, 4)$ и $(12, 3, 4)$ и угол между ними."
   ]
  },
  {
   "cell_type": "markdown",
   "metadata": {},
   "source": [
    "Манхетовская норма:\n",
    "\n",
    "$\\left\\|a\\right\\|_{1} = |4|+|2|+|4|=10$\n",
    "\n",
    "$\\left\\|b\\right\\|_{1} = |12|+|3|+|4|=19$\n",
    "\n",
    "Евклидова норма:\n",
    "\n",
    "$\\left\\|a\\right\\|_{2} = \\sqrt{4^2+2^2+4^2}=6$\n",
    "\n",
    "$\\left\\|b\\right\\|_{2} = \\sqrt{12^2+3^2+4^2}=13$"
   ]
  },
  {
   "cell_type": "code",
   "execution_count": 4,
   "metadata": {},
   "outputs": [
    {
     "name": "stdout",
     "output_type": "stream",
     "text": [
      "Манхетовская норма вектора a: 10.0\n",
      "Манхетовская норма вектора b: 19.0\n",
      "Евклидова норма вектора a: 6.0\n",
      "Евклидова норма вектора b: 13.0\n"
     ]
    }
   ],
   "source": [
    "from numpy.linalg import norm\n",
    "a = np.array([4, 2, 4])\n",
    "b = np.array([12, 3, 4])\n",
    "print(f'Манхетовская норма вектора a: {norm(a, ord=1)}')\n",
    "print(f'Манхетовская норма вектора b: {norm(b, ord=1)}')\n",
    "print(f'Евклидова норма вектора a: {norm(a, ord=2)}')\n",
    "print(f'Евклидова норма вектора b: {norm(b, ord=2)}')"
   ]
  },
  {
   "cell_type": "markdown",
   "metadata": {},
   "source": [
    "$cos\\varphi = \\frac{(a,b)}{\\left \\|a\\right \\|\\cdot\\left \\|b\\right \\|} = \\frac{4 * 12 + 2*3 + 4*4}{\\sqrt{4^2+2^2+4^2} * \\sqrt{12^2+3^2+4^2}} = \\frac{70}{78} = \\approx 0.897$"
   ]
  },
  {
   "cell_type": "code",
   "execution_count": 7,
   "metadata": {},
   "outputs": [
    {
     "name": "stdout",
     "output_type": "stream",
     "text": [
      "Косинус угла между a и b: 0.897\n",
      "Угол между a и b: 0.457\n"
     ]
    }
   ],
   "source": [
    "cos_phi = np.dot(a, b) / norm(a) / norm(b)\n",
    "print(f'Косинус угла между a и b: {cos_phi:.3f}')\n",
    "print(f'Угол между a и b: {np.arccos(cos_phi):.3f}')"
   ]
  },
  {
   "cell_type": "markdown",
   "metadata": {},
   "source": [
    "#### __3.__ Будет ли линейное пространство евклидовым, если за скалярное произведение принять:<br>\n",
    "а) произведение длин векторов;<br>\n",
    "б) утроенное обычное скалярное произведение векторов?<br>"
   ]
  },
  {
   "cell_type": "markdown",
   "metadata": {},
   "source": [
    "a) только в случае, если косинус угла между векторами равен 1\n",
    "\n",
    "б) только в случае, если обычное скалярное произведение векторов равно нулю"
   ]
  },
  {
   "cell_type": "markdown",
   "metadata": {},
   "source": [
    "#### __4.__ Какие из нижеперечисленных векторов образуют ортонормированный базис в линейном пространстве $\\mathbb{R}^{3}$:<br>\n",
    "а) $(1,0,0),(0,0,1);$ <br>\n",
    "б) $(1/\\sqrt{2},-1/\\sqrt{2},0),(1/\\sqrt{2},1/\\sqrt{2},0), (0,0,1);$<br>\n",
    "в) $(1/2, -1/2, 0), (0, 1/2, 1/2), (0,0,1);$<br>\n",
    "г) $(1,0,0),(0,1,0),(0,0,1)?$ "
   ]
  },
  {
   "cell_type": "markdown",
   "metadata": {},
   "source": [
    "a) не образуют, т.к. 2 вектора не образуют базис 3-мерного пространства\n",
    "\n",
    "б) образуют, т.к. длина векторов = 1, а попарное скалярное произведение = 0\n",
    "\n",
    "в) не образуют, т.к. скалярное произведение не равно 0 - значит векторы не перпендикулярны\n",
    "\n",
    "г) образуют\n"
   ]
  },
  {
   "cell_type": "code",
   "execution_count": 18,
   "metadata": {},
   "outputs": [
    {
     "name": "stdout",
     "output_type": "stream",
     "text": [
      "0.0\n",
      "0.0\n",
      "0.0\n",
      "1.0\n",
      "1.0\n",
      "1.0\n"
     ]
    }
   ],
   "source": [
    "# расчет примера б:\n",
    "# произведение:\n",
    "print(1/(2**0.5)* 1/(2**0.5) - 1/(2**0.5)* 1/(2**0.5) + 0)\n",
    "print(1/(2**0.5)* 0 - 1/(2**0.5)* 0 + 0*1)\n",
    "print(1/(2**0.5)* 0 + 1/(2**0.5)* 0 + 0*1)\n",
    "#длина:\n",
    "print(round(((1/(2**0.5))**2 + (-1/(2**0.5))**2 + 0) **0.5, 2))\n",
    "print(round(((1/(2**0.5))**2 + (1/(2**0.5))**2 + 0) **0.5, 2))\n",
    "print((0+0+1)**0.5)"
   ]
  },
  {
   "cell_type": "code",
   "execution_count": 19,
   "metadata": {},
   "outputs": [
    {
     "name": "stdout",
     "output_type": "stream",
     "text": [
      "-0.25\n"
     ]
    }
   ],
   "source": [
    "# расчет примера в:\n",
    "# произведение:\n",
    "print(1/2* 0 - 1/2* 1/2 + 0) # значит векторы не перпендикулярны"
   ]
  },
  {
   "cell_type": "code",
   "execution_count": null,
   "metadata": {},
   "outputs": [],
   "source": []
  }
 ],
 "metadata": {
  "kernelspec": {
   "display_name": "Python 3",
   "language": "python",
   "name": "python3"
  },
  "language_info": {
   "codemirror_mode": {
    "name": "ipython",
    "version": 3
   },
   "file_extension": ".py",
   "mimetype": "text/x-python",
   "name": "python",
   "nbconvert_exporter": "python",
   "pygments_lexer": "ipython3",
   "version": "3.7.9"
  }
 },
 "nbformat": 4,
 "nbformat_minor": 4
}
