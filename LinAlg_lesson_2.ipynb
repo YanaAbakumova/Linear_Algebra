{
 "cells": [
  {
   "cell_type": "code",
   "execution_count": 19,
   "metadata": {},
   "outputs": [],
   "source": [
    "import numpy as np"
   ]
  },
  {
   "cell_type": "markdown",
   "metadata": {},
   "source": [
    "# Матрицы и матричные операции. Часть 1"
   ]
  },
  {
   "cell_type": "markdown",
   "metadata": {},
   "source": [
    "__1.__ Установить, какие произведения матриц $AB$ и $BA$ определены, и найти размерности полученных матриц:\n",
    "\n",
    "   а) $A$ — матрица $4\\times 2$, $B$ — матрица $4\\times 2$;\n",
    "    \n",
    "   б) $A$ — матрица $2\\times 5$, $B$ — матрица $5\\times 3$;\n",
    "    \n",
    "   в) $A$ — матрица $8\\times 3$, $B$ — матрица $3\\times 8$;\n",
    "    \n",
    "   г) $A$ — квадратная матрица $4\\times 4$, $B$ — квадратная матрица $4\\times 4$."
   ]
  },
  {
   "cell_type": "markdown",
   "metadata": {},
   "source": [
    "a) произведение не определено\n",
    "\n",
    "б) определено, размерность $2\\times 3$\n",
    "\n",
    "в) определено, размерность $8\\times 8$\n",
    "\n",
    "г)определено, размерность $4\\times 4$"
   ]
  },
  {
   "cell_type": "markdown",
   "metadata": {},
   "source": [
    "#### __2.__ Найти сумму и произведение матриц $A=\\begin{pmatrix}\n",
    "1 & -2\\\\ \n",
    "3 & 0\n",
    "\\end{pmatrix}$ и $B=\\begin{pmatrix}\n",
    "4 & -1\\\\ \n",
    "0 & 5\n",
    "\\end{pmatrix}.$"
   ]
  },
  {
   "cell_type": "markdown",
   "metadata": {},
   "source": [
    "$A + B = \\begin{pmatrix} 5 & -3\\\\ 3 & 5 \\end{pmatrix}$\n",
    "\n",
    "$A \\cdot B = \\begin{pmatrix} 4+0 & -1-10\\\\ 12+0 & -3+0 \\end{pmatrix} = \\begin{pmatrix} 4 & -11\\\\ 12 & -3 \\end{pmatrix}$"
   ]
  },
  {
   "cell_type": "markdown",
   "metadata": {},
   "source": [
    "#### __3.__ Из закономерностей сложения и умножения матриц на число можно сделать вывод, что матрицы одного размера образуют линейное пространство. Вычислить линейную комбинацию $3A-2B+4C$ для матриц $A=\\begin{pmatrix}\n",
    "1 & 7\\\\ \n",
    "3 & -6\n",
    "\\end{pmatrix}$, $B=\\begin{pmatrix}\n",
    "0 & 5\\\\ \n",
    "2 & -1\n",
    "\\end{pmatrix}$, $C=\\begin{pmatrix}\n",
    "2 & -4\\\\ \n",
    "1 & 1\n",
    "\\end{pmatrix}.$"
   ]
  },
  {
   "cell_type": "markdown",
   "metadata": {},
   "source": [
    "$\\begin{pmatrix} 3 & 21\\\\ 9 & -18 \\end{pmatrix} - \\begin{pmatrix} 0 & 10\\\\ 4 & -2 \\end{pmatrix} + \\begin{pmatrix} 8 & -16\\\\ 4 & 4 \\end{pmatrix} = \\begin{pmatrix} 11 & -5\\\\ 9 & -12 \\end{pmatrix}$ "
   ]
  },
  {
   "cell_type": "code",
   "execution_count": 20,
   "metadata": {},
   "outputs": [],
   "source": [
    "A = np.array([[1, 7], [3, -6]])\n",
    "B = np.array([[0, 5],[2, -1]])\n",
    "C = np.array([[2, -4],[1, 1]])"
   ]
  },
  {
   "cell_type": "code",
   "execution_count": 21,
   "metadata": {},
   "outputs": [
    {
     "data": {
      "text/plain": [
       "array([[ 11,  -5],\n",
       "       [  9, -12]])"
      ]
     },
     "execution_count": 21,
     "metadata": {},
     "output_type": "execute_result"
    }
   ],
   "source": [
    "3*A-2*B+4*C"
   ]
  },
  {
   "cell_type": "markdown",
   "metadata": {},
   "source": [
    "__4.__ Дана матрица $A=\\begin{pmatrix}\n",
    "4 & 1\\\\ \n",
    "5 & -2\\\\ \n",
    "2 & 3\n",
    "\\end{pmatrix}$.\n",
    "Вычислить $AA^{T}$ и $A^{T}A$."
   ]
  },
  {
   "cell_type": "markdown",
   "metadata": {},
   "source": [
    "$AA^{T} = \\begin{pmatrix} 4 & 1\\\\ 5 & -2\\\\ 2 & 3 \\end{pmatrix} \\cdot \\begin{pmatrix} 4 & 5 & 2\\\\ 1 & -2 & 3 \\end{pmatrix} = \n",
    "\\begin{pmatrix} 16+1 & 20-2 & 8+3\\\\ 20-2 & 25+4 & 10-6\\\\ 8+3 & 10-6 & 4 + 9 \\end{pmatrix} = \\begin{pmatrix} 17 & 18 & 11\\\\ 18 & 29 & 4 \\\\ 11 & 4 & 13 \\end{pmatrix}$\n",
    "\n",
    "$A^{T}A = \\begin{pmatrix} 4 & 5 & 2\\\\ 1 & -2 & 3 \\end{pmatrix} \\cdot \\begin{pmatrix} 4 & 1\\\\ 5 & -2\\\\ 2 & 3 \\end{pmatrix} = \\begin{pmatrix} 16+25+4 & 4-10+6\\\\ 4-10+6 & 1+4+9 \\end{pmatrix} = \\begin{pmatrix} 45 & 0\\\\ 0 & 14 \\end{pmatrix}$"
   ]
  },
  {
   "cell_type": "markdown",
   "metadata": {},
   "source": [
    "#### __5*.__ Написать на Python функцию для перемножения двух произвольных матриц, не используя NumPy."
   ]
  },
  {
   "cell_type": "code",
   "execution_count": 22,
   "metadata": {},
   "outputs": [],
   "source": [
    "def matrix_dot(X, Y):\n",
    "    m = [[0 for i in range(len(Y[0]))] for el in range(len(X))]\n",
    "    try:\n",
    "        for i in range(len(Y[0])):\n",
    "            for j in range(len(X)):\n",
    "                for k in range(len(X[j])):\n",
    "                    m [j][i]+= X[j][k] * Y[k][i]\n",
    "    except IndexError:\n",
    "        return 'Кол-во строк матрицы 1 не совпадает с кол-вом столбцов матрицы 2'\n",
    "    return(m)"
   ]
  },
  {
   "cell_type": "code",
   "execution_count": 23,
   "metadata": {},
   "outputs": [],
   "source": [
    "S = np.array([[8, 5, 3], [4, 6, 1], [0, 11, 9], [2, 7, 10], [2, 3, 1], [3, 3, 3]])\n",
    "F = np.array([[1, 2, 3, 4, 6, 2], [2, 1, 1, 4, 1, 2], [2, 3, 4, 5, 6, 7], [1, 2, 1, 2, 1, 2]])"
   ]
  },
  {
   "cell_type": "code",
   "execution_count": 24,
   "metadata": {},
   "outputs": [],
   "source": [
    "U = np.array([[1, 0], [2, 1], [10, 5]])\n",
    "V = np.array([[2, 0, 0], [0, 0, 1]])"
   ]
  },
  {
   "cell_type": "code",
   "execution_count": 25,
   "metadata": {},
   "outputs": [
    {
     "data": {
      "text/plain": [
       "[[42, 102, 84], [36, 64, 63], [71, 146, 122], [28, 51, 41]]"
      ]
     },
     "execution_count": 25,
     "metadata": {},
     "output_type": "execute_result"
    }
   ],
   "source": [
    "matrix_dot(F, S)"
   ]
  },
  {
   "cell_type": "code",
   "execution_count": 26,
   "metadata": {},
   "outputs": [
    {
     "data": {
      "text/plain": [
       "[[2, 0, 0], [4, 0, 1], [20, 0, 5]]"
      ]
     },
     "execution_count": 26,
     "metadata": {},
     "output_type": "execute_result"
    }
   ],
   "source": [
    "matrix_dot(U, V)"
   ]
  },
  {
   "cell_type": "code",
   "execution_count": 27,
   "metadata": {},
   "outputs": [
    {
     "data": {
      "text/plain": [
       "array([[ 42, 102,  84],\n",
       "       [ 36,  64,  63],\n",
       "       [ 71, 146, 122],\n",
       "       [ 28,  51,  41]])"
      ]
     },
     "execution_count": 27,
     "metadata": {},
     "output_type": "execute_result"
    }
   ],
   "source": [
    "F.dot(S)"
   ]
  },
  {
   "cell_type": "code",
   "execution_count": 28,
   "metadata": {},
   "outputs": [
    {
     "data": {
      "text/plain": [
       "array([[ 2,  0,  0],\n",
       "       [ 4,  0,  1],\n",
       "       [20,  0,  5]])"
      ]
     },
     "execution_count": 28,
     "metadata": {},
     "output_type": "execute_result"
    }
   ],
   "source": [
    "U.dot(V)"
   ]
  },
  {
   "cell_type": "markdown",
   "metadata": {},
   "source": [
    "# Матрицы и матричные операции. Часть 2"
   ]
  },
  {
   "cell_type": "markdown",
   "metadata": {},
   "source": [
    "#### __1.__ Вычислить определитель:\n",
    "\n",
    "   a)\n",
    "\n",
    "$\\begin{vmatrix} sinx & -cosx\\\\ cosx & sinx \\end{vmatrix}  = (sinx)^2 + (cosx)^2 = 1$\n"
   ]
  },
  {
   "cell_type": "markdown",
   "metadata": {},
   "source": [
    " б)\n",
    "    \n",
    "$\\begin{vmatrix} 4 & 2 & 3\\\\ 0 & 5 & 1\\\\ 0 & 0 & 9 \\end{vmatrix} = 4 * 5 * 9 = 180$\n",
    "    \n"
   ]
  },
  {
   "cell_type": "markdown",
   "metadata": {},
   "source": [
    "   в)\n",
    "\n",
    "$\\begin{vmatrix} 1 & 2 & 3\\\\4 & 5 & 6\\\\ 7 & 8 & 9 \\end{vmatrix} = 1 * \\begin{vmatrix} 5 & 6\\\\ 8 & 9\\end{vmatrix} - 2 * \n",
    "\\begin{vmatrix} 4 & 6\\\\ 7 & 9\\end{vmatrix} + 3 * \\begin{vmatrix} 4 & 5\\\\ 7 & 8\\end{vmatrix} = 1* (-3) + 2 * 6  - 3 * 3 = 0$"
   ]
  },
  {
   "cell_type": "markdown",
   "metadata": {},
   "source": [
    "#### __2.__ Определитель матрицы $A$ равен $4$. Найти:\n",
    "\n",
    "   а) $det(A^{2})$;\n",
    "    \n",
    "   б) $det(A^{T})$;\n",
    "    \n",
    "   в) $det(2A)$."
   ]
  },
  {
   "cell_type": "markdown",
   "metadata": {},
   "source": [
    "a) $4^2 = 16$\n",
    "\n",
    "б) $4$\n",
    "\n",
    "в) $4 \\cdot 2 = 8$"
   ]
  },
  {
   "cell_type": "markdown",
   "metadata": {},
   "source": [
    "#### __3.__  Доказать, что матрица\n",
    "\n",
    "$$\\begin{pmatrix}\n",
    "-2 & 7 & -3\\\\ \n",
    "4 & -14 & 6\\\\ \n",
    "-3 & 7 & 13\n",
    "\\end{pmatrix}$$\n",
    "   \n",
    "вырожденная."
   ]
  },
  {
   "cell_type": "markdown",
   "metadata": {},
   "source": [
    "$ -2 * \\begin{pmatrix} -14 & 6\\\\ 7 & 13\\end{pmatrix} - 7 * \\begin{pmatrix} 4 & 6\\\\ -3 & 13\\end{pmatrix} -3 * \\begin{pmatrix} 4 & -14\\\\ -3 & 7\\end{pmatrix} = -2 * (-224) - 7 * 70 -3 * (-14) = 448 - 490 + 42 = 0$\n",
    "\n",
    "определитель = 0 - значит матрица вырожденная"
   ]
  },
  {
   "cell_type": "markdown",
   "metadata": {},
   "source": [
    "#### __4.__ Найти ранг матрицы:\n",
    "\n",
    "   а) $\\begin{pmatrix}\n",
    "1 & 2 & 3\\\\ \n",
    "1 & 1 & 1\\\\ \n",
    "2 & 3 & 4\n",
    "\\end{pmatrix};$\n"
   ]
  },
  {
   "cell_type": "markdown",
   "metadata": {},
   "source": [
    "3я строка является суммой 1й и 2й, поэтому ее можно отбросить. Ранг 2"
   ]
  },
  {
   "cell_type": "code",
   "execution_count": 30,
   "metadata": {},
   "outputs": [
    {
     "data": {
      "text/plain": [
       "2"
      ]
     },
     "execution_count": 30,
     "metadata": {},
     "output_type": "execute_result"
    }
   ],
   "source": [
    "n = np.array([[1,2, 3], [1, 1, 1], [2,3, 4]])\n",
    "np.linalg.matrix_rank(n)"
   ]
  },
  {
   "cell_type": "markdown",
   "metadata": {},
   "source": [
    "   б) $\\begin{pmatrix}\n",
    "0 & 0 & 2 & 1\\\\ \n",
    "0 & 0 & 2 & 2\\\\ \n",
    "0 & 0 & 4 & 3\\\\ \n",
    "2 & 3 & 5 & 6\n",
    "\\end{pmatrix}.$"
   ]
  },
  {
   "cell_type": "markdown",
   "metadata": {},
   "source": [
    "3я строка является суммой 1й и 2й, поэтому ее можно отбросить. Ранг 3"
   ]
  },
  {
   "cell_type": "code",
   "execution_count": 32,
   "metadata": {},
   "outputs": [
    {
     "data": {
      "text/plain": [
       "3"
      ]
     },
     "execution_count": 32,
     "metadata": {},
     "output_type": "execute_result"
    }
   ],
   "source": [
    "m = np.array([[0, 0, 2, 1], [0, 0, 2, 2], [0, 0, 4, 3], [2, 3, 5, 6]])\n",
    "np.linalg.matrix_rank(m)"
   ]
  },
  {
   "cell_type": "code",
   "execution_count": null,
   "metadata": {},
   "outputs": [],
   "source": []
  }
 ],
 "metadata": {
  "kernelspec": {
   "display_name": "Python 3",
   "language": "python",
   "name": "python3"
  },
  "language_info": {
   "codemirror_mode": {
    "name": "ipython",
    "version": 3
   },
   "file_extension": ".py",
   "mimetype": "text/x-python",
   "name": "python",
   "nbconvert_exporter": "python",
   "pygments_lexer": "ipython3",
   "version": "3.7.9"
  }
 },
 "nbformat": 4,
 "nbformat_minor": 4
}
